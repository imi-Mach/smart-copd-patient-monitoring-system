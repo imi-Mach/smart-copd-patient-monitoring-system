{
 "cells": [
  {
   "cell_type": "code",
   "execution_count": 1,
   "id": "07521db9",
   "metadata": {},
   "outputs": [],
   "source": [
    "import numpy as np"
   ]
  },
  {
   "cell_type": "code",
   "execution_count": 2,
   "id": "16873f5c",
   "metadata": {},
   "outputs": [],
   "source": [
    "# normal bt\n",
    "def get_n_bt():\n",
    "    return int((np.random.rand(1)*1.3+36)*10)/10\n",
    "    \n"
   ]
  },
  {
   "cell_type": "code",
   "execution_count": 3,
   "id": "96a72413",
   "metadata": {},
   "outputs": [],
   "source": [
    "# normal fev1\n",
    "def get_n_fev1():\n",
    "    return int(np.random.rand(1)*20+80)"
   ]
  },
  {
   "cell_type": "code",
   "execution_count": 4,
   "id": "1c205bcc",
   "metadata": {},
   "outputs": [],
   "source": [
    "# normal spo2\n",
    "def get_n_spo2():\n",
    "    return int(np.random.rand(1)*5+95)"
   ]
  },
  {
   "cell_type": "code",
   "execution_count": 5,
   "id": "b0594409",
   "metadata": {},
   "outputs": [],
   "source": [
    "# 0 for yes, 1 for no\n",
    "# 15%\n",
    "def get_health0():\n",
    "    return np.array([1,1,1,1,1,1,1,1,1,1,1,1,get_n_bt(), get_n_fev1(), get_n_spo2(),0])"
   ]
  },
  {
   "cell_type": "code",
   "execution_count": 6,
   "id": "af3f14d0",
   "metadata": {},
   "outputs": [],
   "source": [
    "# 0 for yes, 1 for no\n",
    "# 15%\n",
    "def get_health1():\n",
    "    return np.array([1,1,1,1,1,1,1,1,1,1,get_likely_1(0.6),1,get_n_bt(), get_n_fev1(), get_n_spo2(),0])"
   ]
  },
  {
   "cell_type": "code",
   "execution_count": 7,
   "id": "eacc125b",
   "metadata": {},
   "outputs": [],
   "source": [
    "def get_abn_bt():\n",
    "    return int((np.random.rand(1)*2.7+37.3)*10)/10"
   ]
  },
  {
   "cell_type": "code",
   "execution_count": 8,
   "id": "1dd5a028",
   "metadata": {},
   "outputs": [],
   "source": [
    "def get_abn_fev1():\n",
    "    return int(np.random.rand(1)*23+57)"
   ]
  },
  {
   "cell_type": "code",
   "execution_count": 9,
   "id": "f8b5abc0",
   "metadata": {},
   "outputs": [],
   "source": [
    "def get_abn_spo2():\n",
    "    return int(np.random.rand(1)*7+88)"
   ]
  },
  {
   "cell_type": "code",
   "execution_count": 10,
   "id": "50ac19bf",
   "metadata": {},
   "outputs": [],
   "source": [
    "def get_likely_1(p):\n",
    "    return int(np.round(np.random.rand(1)+p-0.5))"
   ]
  },
  {
   "cell_type": "code",
   "execution_count": 11,
   "id": "baf675af",
   "metadata": {},
   "outputs": [],
   "source": [
    "# each 6%\n",
    "def get_caution0():\n",
    "    return np.array([1, 1, 0, 1, 1, get_likely_1(0.8), get_likely_1(0.8), get_likely_1(0.8), \n",
    "                     get_likely_1(0.8), get_likely_1(0.8), get_likely_1(0.8), get_likely_1(0.8), \n",
    "                     get_n_bt(), get_n_fev1(), get_n_spo2(), 1])"
   ]
  },
  {
   "cell_type": "code",
   "execution_count": 12,
   "id": "2c55c7ae",
   "metadata": {},
   "outputs": [],
   "source": [
    "def get_caution1():\n",
    "    return np.array([1, 1, get_likely_1(0.8), 1, 1, get_likely_1(0.8), 0, get_likely_1(0.8), \n",
    "                     get_likely_1(0.8), get_likely_1(0.8), get_likely_1(0.8), get_likely_1(0.8), \n",
    "                     get_n_bt(), get_n_fev1(), get_n_spo2(), 1])"
   ]
  },
  {
   "cell_type": "code",
   "execution_count": 13,
   "id": "8305a12c",
   "metadata": {},
   "outputs": [],
   "source": [
    "def get_caution2():\n",
    "    return np.array([1, 1, get_likely_1(0.8), 1, 1, get_likely_1(0.8), get_likely_1(0.8), \n",
    "                     0, get_likely_1(0.8), get_likely_1(0.8), get_likely_1(0.8), get_likely_1(0.8), \n",
    "                     get_n_bt(), get_n_fev1(), get_n_spo2(), 1])"
   ]
  },
  {
   "cell_type": "code",
   "execution_count": 14,
   "id": "a568c631",
   "metadata": {},
   "outputs": [],
   "source": [
    "def get_caution3():\n",
    "    return np.array([1, 1, get_likely_1(0.8), 1, 1, get_likely_1(0.8), get_likely_1(0.8), \n",
    "                     get_likely_1(0.8), 0, get_likely_1(0.8), get_likely_1(0.8), get_likely_1(0.8), \n",
    "                     get_n_bt(), get_n_fev1(), get_n_spo2(), 1])"
   ]
  },
  {
   "cell_type": "code",
   "execution_count": 15,
   "id": "29cc4110",
   "metadata": {},
   "outputs": [],
   "source": [
    "def get_caution4():\n",
    "    return np.array([1, 1, get_likely_1(0.8), 1, 1, get_likely_1(0.8), get_likely_1(0.8), \n",
    "                     get_likely_1(0.8), get_likely_1(0.8), 0, get_likely_1(0.8), get_likely_1(0.8), \n",
    "                     get_n_bt(), get_n_fev1(), get_n_spo2(), 1])"
   ]
  },
  {
   "cell_type": "code",
   "execution_count": 16,
   "id": "49151598",
   "metadata": {},
   "outputs": [],
   "source": [
    "# 3%\n",
    "# bt n, f ab, sn\n",
    "def get_danger0():\n",
    "    return np.array([get_likely_1(0.7),get_likely_1(0.7),get_likely_1(0.7),get_likely_1(0.7),\n",
    "                     get_likely_1(0.7),get_likely_1(0.7),get_likely_1(0.7),get_likely_1(0.7),\n",
    "                     get_likely_1(0.7),get_likely_1(0.7),get_likely_1(0.7),get_likely_1(0.7),\n",
    "                     get_n_bt(),get_abn_fev1(), get_n_spo2(),2])"
   ]
  },
  {
   "cell_type": "code",
   "execution_count": 17,
   "id": "e120557d",
   "metadata": {},
   "outputs": [],
   "source": [
    "# 3%\n",
    "# bt n, f n, s ab\n",
    "def get_danger1():\n",
    "    return np.array([get_likely_1(0.7),get_likely_1(0.7),get_likely_1(0.7),get_likely_1(0.7),\n",
    "                     get_likely_1(0.7),get_likely_1(0.7),get_likely_1(0.7),get_likely_1(0.7),\n",
    "                     get_likely_1(0.7),get_likely_1(0.7),get_likely_1(0.7),get_likely_1(0.7),\n",
    "                     get_n_bt(),get_n_fev1(), get_abn_spo2(),2])"
   ]
  },
  {
   "cell_type": "code",
   "execution_count": 18,
   "id": "dee93bfd",
   "metadata": {},
   "outputs": [],
   "source": [
    "# 3%\n",
    "# bt n, f abn, s abn\n",
    "def get_danger2():\n",
    "    return np.array([get_likely_1(0.7),get_likely_1(0.7),get_likely_1(0.7),get_likely_1(0.7),\n",
    "                     get_likely_1(0.7),get_likely_1(0.7),get_likely_1(0.7),get_likely_1(0.7),\n",
    "                     get_likely_1(0.7),get_likely_1(0.7),get_likely_1(0.7),get_likely_1(0.7),\n",
    "                     get_n_bt(),get_abn_fev1(), get_abn_spo2(),2])"
   ]
  },
  {
   "cell_type": "code",
   "execution_count": 19,
   "id": "36729fba",
   "metadata": {},
   "outputs": [],
   "source": [
    "# 3%\n",
    "# bt abn, f abn, s n\n",
    "def get_danger3():\n",
    "    return np.array([get_likely_1(0.7),get_likely_1(0.7),get_likely_1(0.7),get_likely_1(0.7),\n",
    "                     get_likely_1(0.7),get_likely_1(0.7),get_likely_1(0.7),get_likely_1(0.7),\n",
    "                     get_likely_1(0.7),get_likely_1(0.7),get_likely_1(0.7),get_likely_1(0.7),\n",
    "                     get_abn_bt(),get_abn_fev1(), get_n_spo2(),2])"
   ]
  },
  {
   "cell_type": "code",
   "execution_count": 20,
   "id": "a65c1c39",
   "metadata": {},
   "outputs": [],
   "source": [
    "# 3%\n",
    "# bt abn, f abn, s abn\n",
    "def get_danger4():\n",
    "    return np.array([get_likely_1(0.7),get_likely_1(0.7),get_likely_1(0.7),get_likely_1(0.7),\n",
    "                     get_likely_1(0.7),get_likely_1(0.7),get_likely_1(0.7),get_likely_1(0.7),\n",
    "                     get_likely_1(0.7),get_likely_1(0.7),get_likely_1(0.7),get_likely_1(0.7),\n",
    "                     get_abn_bt(),get_abn_fev1(), get_abn_spo2(),2])"
   ]
  },
  {
   "cell_type": "code",
   "execution_count": 21,
   "id": "c3016818",
   "metadata": {},
   "outputs": [],
   "source": [
    "# 3%\n",
    "# bt abn, f n, s abn\n",
    "def get_danger5():\n",
    "    return np.array([get_likely_1(0.7),get_likely_1(0.7),get_likely_1(0.7),get_likely_1(0.7),\n",
    "                     get_likely_1(0.7),get_likely_1(0.7),get_likely_1(0.7),get_likely_1(0.7),\n",
    "                     get_likely_1(0.7),get_likely_1(0.7),get_likely_1(0.7),get_likely_1(0.7),\n",
    "                     get_abn_bt(),get_n_fev1(), get_abn_spo2(),2])"
   ]
  },
  {
   "cell_type": "code",
   "execution_count": 22,
   "id": "5e597183",
   "metadata": {},
   "outputs": [],
   "source": [
    "# 4%\n",
    "# 2 major 14\n",
    "def get_danger6():\n",
    "    return np.array([0,get_likely_1(0.5),get_likely_1(0.7),0,\n",
    "                     get_likely_1(0.7),get_likely_1(0.7),get_likely_1(0.7),get_likely_1(0.7),\n",
    "                     get_likely_1(0.7),get_likely_1(0.7),get_likely_1(0.7),get_likely_1(0.7),\n",
    "                     get_n_bt(),get_n_fev1(), get_n_spo2(),2])"
   ]
  },
  {
   "cell_type": "code",
   "execution_count": 23,
   "id": "f74347c1",
   "metadata": {},
   "outputs": [],
   "source": [
    "# 4%\n",
    "# 2 major 15\n",
    "def get_danger7():\n",
    "    return np.array([0,get_likely_1(0.5),get_likely_1(0.7),\n",
    "                     get_likely_1(0.7),0,get_likely_1(0.7),get_likely_1(0.7),get_likely_1(0.7),\n",
    "                     get_likely_1(0.7),get_likely_1(0.7),get_likely_1(0.7),get_likely_1(0.7),\n",
    "                     get_n_bt(),get_n_fev1(), get_n_spo2(),2])"
   ]
  },
  {
   "cell_type": "code",
   "execution_count": 24,
   "id": "c4202359",
   "metadata": {},
   "outputs": [],
   "source": [
    "# 4%\n",
    "# 2 major 45\n",
    "def get_danger8():\n",
    "    return np.array([1,1,get_likely_1(0.7),\n",
    "                     0,0,get_likely_1(0.7),get_likely_1(0.7),get_likely_1(0.7),\n",
    "                     get_likely_1(0.7),get_likely_1(0.7),get_likely_1(0.7),get_likely_1(0.7),\n",
    "                     get_n_bt(),get_n_fev1(), get_n_spo2(),2])"
   ]
  },
  {
   "cell_type": "code",
   "execution_count": 25,
   "id": "8f394529",
   "metadata": {},
   "outputs": [],
   "source": [
    "# 3%\n",
    "# 1 major + fever 1\n",
    "def get_danger9():\n",
    "    return np.array([0,get_likely_1(0.5),get_likely_1(0.7),\n",
    "                     1,1,get_likely_1(0.7),get_likely_1(0.7),get_likely_1(0.7),\n",
    "                     get_likely_1(0.7),get_likely_1(0.7),get_likely_1(0.7),get_likely_1(0.7),\n",
    "                     get_abn_bt(),get_n_fev1(), get_n_spo2(),2])"
   ]
  },
  {
   "cell_type": "code",
   "execution_count": 26,
   "id": "08c69123",
   "metadata": {},
   "outputs": [],
   "source": [
    "# 3%\n",
    "# 1 major + fever 4\n",
    "def get_danger10():\n",
    "    return np.array([1,1,get_likely_1(0.7),\n",
    "                     0,1,get_likely_1(0.7),get_likely_1(0.7),get_likely_1(0.7),\n",
    "                     get_likely_1(0.7),get_likely_1(0.7),get_likely_1(0.7),get_likely_1(0.7),\n",
    "                     get_abn_bt(),get_n_fev1(), get_n_spo2(),2])"
   ]
  },
  {
   "cell_type": "code",
   "execution_count": 27,
   "id": "11218f4b",
   "metadata": {},
   "outputs": [],
   "source": [
    "# 3%\n",
    "# 1 major + fever 5\n",
    "def get_danger11():\n",
    "    return np.array([1,1,get_likely_1(0.7),\n",
    "                     1,0,get_likely_1(0.7),get_likely_1(0.7),get_likely_1(0.7),\n",
    "                     get_likely_1(0.7),get_likely_1(0.7),get_likely_1(0.7),get_likely_1(0.7),\n",
    "                     get_abn_bt(),get_n_fev1(), get_n_spo2(),2])"
   ]
  },
  {
   "cell_type": "code",
   "execution_count": 28,
   "id": "ba750f5d",
   "metadata": {},
   "outputs": [],
   "source": [
    "# 1%\n",
    "# 3 major + fever\n",
    "def get_danger12():\n",
    "    return np.array([0,get_likely_1(0.5),get_likely_1(0.7),\n",
    "                     0,0,get_likely_1(0.7),get_likely_1(0.7),get_likely_1(0.7),\n",
    "                     get_likely_1(0.7),get_likely_1(0.7),get_likely_1(0.7),get_likely_1(0.7),\n",
    "                     get_abn_bt(),get_n_fev1(), get_n_spo2(),2])"
   ]
  },
  {
   "cell_type": "code",
   "execution_count": 29,
   "id": "693b779a",
   "metadata": {},
   "outputs": [
    {
     "data": {
      "text/plain": [
       "array([ 1.,  1.,  1.,  0.,  0.,  0.,  0.,  1.,  1.,  0.,  1.,  1., 37.,\n",
       "       84., 96.,  2.])"
      ]
     },
     "execution_count": 29,
     "metadata": {},
     "output_type": "execute_result"
    }
   ],
   "source": [
    "get_danger8()"
   ]
  },
  {
   "cell_type": "code",
   "execution_count": 30,
   "id": "27dd9997",
   "metadata": {},
   "outputs": [],
   "source": [
    "# how many data point? n\n",
    "def get_trainingdata(n):\n",
    "    h0 = n*0.15\n",
    "    h1 = n*0.15\n",
    "    c = n*0.06\n",
    "    d05 = n* 0.03\n",
    "    d68 = n * 0.04\n",
    "    d911 = n* 0.03\n",
    "    d12 = n*0.01\n",
    "    count = 0\n",
    "    dataset = np.ndarray((n,16))\n",
    "    for i in range(n):\n",
    "        if count < h0:\n",
    "            dataset[i] = get_health0()\n",
    "        elif count < h0+h1:\n",
    "            dataset[i] = get_health1()\n",
    "        elif count < h0+h1+c*1:\n",
    "            dataset[i] = get_caution0()\n",
    "        elif count < h0+h1+c*2:\n",
    "            dataset[i] = get_caution1()\n",
    "        elif count < h0+h1+c*3:\n",
    "            dataset[i] = get_caution2()\n",
    "        elif count < h0+h1+c*4:\n",
    "            dataset[i] = get_caution3()\n",
    "        elif count < h0+h1+c*5:\n",
    "            dataset[i] = get_caution4()\n",
    "        elif count < h0+h1+c*5+d05*1:\n",
    "            dataset[i] = get_danger0()\n",
    "        elif count < h0+h1+c*5+d05*2:\n",
    "            dataset[i] = get_danger1()\n",
    "        elif count < h0+h1+c*5+d05*3:\n",
    "            dataset[i] = get_danger2()\n",
    "        elif count < h0+h1+c*5+d05*4:\n",
    "            dataset[i] = get_danger3()\n",
    "        elif count < h0+h1+c*5+d05*5:\n",
    "            dataset[i] = get_danger4()\n",
    "        elif count < h0+h1+c*5+d05*6:\n",
    "            dataset[i] = get_danger5()\n",
    "        elif count < h0+h1+c*5+d05*6+d68*1:\n",
    "            dataset[i] = get_danger6()\n",
    "        elif count < h0+h1+c*5+d05*6+d68*2:\n",
    "            dataset[i] = get_danger7()\n",
    "        elif count < h0+h1+c*5+d05*6+d68*3:\n",
    "            dataset[i] = get_danger8()\n",
    "        elif count < h0+h1+c*5+d05*6+d68*3+d911*1:\n",
    "            dataset[i] = get_danger9()\n",
    "        elif count < h0+h1+c*5+d05*6+d68*3+d911*2:\n",
    "            dataset[i] = get_danger10()\n",
    "        elif count < h0+h1+c*5+d05*6+d68*3+d911*3:\n",
    "            dataset[i] = get_danger11()\n",
    "        else:\n",
    "            dataset[i] = get_danger12()\n",
    "            \n",
    "            \n",
    "        count = count + 1\n",
    "        \n",
    "    return dataset"
   ]
  },
  {
   "cell_type": "code",
   "execution_count": 32,
   "id": "645a312d",
   "metadata": {},
   "outputs": [],
   "source": [
    "data = get_trainingdata(1000)\n",
    "np.savetxt('train.csv', data, delimiter=',', header=\"q1,q2,q3,q4,q5,q6,q7,q8,q9,q10,q11,q12,bt,fev1,spo2,class\", fmt=\"%f\")"
   ]
  },
  {
   "cell_type": "code",
   "execution_count": null,
   "id": "9ef24240",
   "metadata": {},
   "outputs": [],
   "source": []
  },
  {
   "cell_type": "code",
   "execution_count": null,
   "id": "f61f6837",
   "metadata": {},
   "outputs": [],
   "source": []
  }
 ],
 "metadata": {
  "kernelspec": {
   "display_name": "Python 3",
   "language": "python",
   "name": "python3"
  },
  "language_info": {
   "codemirror_mode": {
    "name": "ipython",
    "version": 3
   },
   "file_extension": ".py",
   "mimetype": "text/x-python",
   "name": "python",
   "nbconvert_exporter": "python",
   "pygments_lexer": "ipython3",
   "version": "3.8.8"
  }
 },
 "nbformat": 4,
 "nbformat_minor": 5
}
